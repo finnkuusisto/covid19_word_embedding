{
 "cells": [
  {
   "cell_type": "markdown",
   "metadata": {},
   "source": [
    "# Load Data\n",
    "Load up the word vector and raw FDA approved drug names."
   ]
  },
  {
   "cell_type": "code",
   "execution_count": 1,
   "metadata": {},
   "outputs": [],
   "source": [
    "import numpy as np\n",
    "from gensim.models import KeyedVectors\n",
    "# load the word embedding model\n",
    "wv = KeyedVectors.load_word2vec_format('bio_embedding_intrinsic', binary=True)\n",
    "# and our approved drug names\n",
    "drugs = None\n",
    "with open('fda_approved/fda_approved.processed.names') as infile:\n",
    "    drugs = [l.strip() for l in infile]"
   ]
  },
  {
   "cell_type": "markdown",
   "metadata": {},
   "source": [
    "# Convert Raw FDA Approved Drug Names to Vectors\n",
    "Here we take the FDA approved drug names and convert them to word vectors.\n",
    "First, we break them into tokens.\n",
    "Then, for each drug, we get word vectors for each individual token and average them for the drug.\n",
    "We drop individual tokens that are not in the vocab, modifying the drug name along with the average.\n",
    "Obviously, drug names with no tokens in the vocab are dropped."
   ]
  },
  {
   "cell_type": "code",
   "execution_count": 2,
   "metadata": {},
   "outputs": [],
   "source": [
    "# we're first going to convert every multi-token drug into a word vector average\n",
    "def wv_avg_tokens(tokens, wv):\n",
    "    # collect the unit vectors for each token\n",
    "    new_toks = list()\n",
    "    unit_vecs = list()\n",
    "    for t in tokens:\n",
    "        # skip tokens that aren't in the embedding\n",
    "        if t in wv:\n",
    "            # keep the token\n",
    "            new_toks.append(t)\n",
    "            # scale to a unit vector\n",
    "            uvec = wv[t]\n",
    "            uvec = uvec / np.linalg.norm(uvec)\n",
    "            unit_vecs.append(uvec)\n",
    "    # now add them up if we got at least one\n",
    "    if len(unit_vecs) < 1:\n",
    "        return None,None\n",
    "    # sum\n",
    "    ret_vec = unit_vecs[0]\n",
    "    for uvec in unit_vecs[1:]:\n",
    "        ret_vec = ret_vec + uvec\n",
    "    # and rescale\n",
    "    ret_vec = ret_vec / np.linalg.norm(ret_vec)\n",
    "    return new_toks,ret_vec"
   ]
  },
  {
   "cell_type": "code",
   "execution_count": 3,
   "metadata": {},
   "outputs": [
    {
     "name": "stdout",
     "output_type": "stream",
     "text": [
      "Starting drug count: 8561\n",
      "Converted drug count: 6506\n",
      "Final distinct drug vector count: 5850\n"
     ]
    }
   ],
   "source": [
    "# how many raw drugs are we starting with again?\n",
    "print('Starting drug count: {0}'.format(len(drugs)))\n",
    "# gather up our drug vectors with the corresponding \"new\" names (based on token dropping)\n",
    "drug_vec_tups = list()\n",
    "# and track the drugs that were dropped completely\n",
    "dropped_drugs = list()\n",
    "for d in drugs:\n",
    "    # split and average word vectors\n",
    "    toks = d.split()\n",
    "    new_toks,drug_vec = wv_avg_tokens(toks, wv)\n",
    "    # check for complete loss of a drug, or track the new name and vector\n",
    "    if drug_vec is None:\n",
    "        dropped_drugs.append(d)\n",
    "    else:\n",
    "        new_name = ' '.join(new_toks)\n",
    "        drug_vec_tups.append((new_name, drug_vec))\n",
    "# and how many raw drug names were we able to convert into something\n",
    "print('Converted drug count: {0}'.format(len(drug_vec_tups)))\n",
    "# because we have modified drug names, we may have ended up with new dupes\n",
    "tmp = list()\n",
    "drug_seen = set()\n",
    "for dvt in drug_vec_tups:\n",
    "    if dvt[0] not in drug_seen:\n",
    "        tmp.append(dvt)\n",
    "        drug_seen.add(dvt[0])\n",
    "drug_vec_tups = tmp\n",
    "# and how many distinct converted drug names do we have\n",
    "print('Final distinct drug vector count: {0}'.format(len(drug_vec_tups)))"
   ]
  },
  {
   "cell_type": "markdown",
   "metadata": {},
   "source": [
    "# Build Treatment Analogy Vectors\n",
    "Now we generate treatment analogy vectors.\n",
    "We use three analogies: Metformin-Diabetes, Benazepril-Hypertension, and Albuterol-Asthma.\n",
    "These are the vectors we will use to rank the drugs."
   ]
  },
  {
   "cell_type": "code",
   "execution_count": 4,
   "metadata": {},
   "outputs": [],
   "source": [
    "def get_sars_treatment_analogy(seed_drug, seed_disease, wv):\n",
    "    drug_v = wv[seed_drug] / np.linalg.norm(wv[seed_drug])\n",
    "    dis_v = wv[seed_disease] / np.linalg.norm(wv[seed_disease])\n",
    "    sars_v = wv['sars'] / np.linalg.norm(wv['sars'])\n",
    "    treat_sars_vec = drug_v - dis_v + sars_v\n",
    "    treat_sars_vec = treat_sars_vec / np.linalg.norm(treat_sars_vec)\n",
    "    return treat_sars_vec"
   ]
  },
  {
   "cell_type": "code",
   "execution_count": 5,
   "metadata": {},
   "outputs": [],
   "source": [
    "metf_diab_sars_v = get_sars_treatment_analogy('metformin', 'diabetes', wv)\n",
    "benz_hypr_sars_v = get_sars_treatment_analogy('benazepril', 'hypertension', wv)\n",
    "albu_asth_sars_v = get_sars_treatment_analogy('albuterol', 'asthma', wv)"
   ]
  },
  {
   "cell_type": "markdown",
   "metadata": {},
   "source": [
    "# Check Top 20 Hits for Treatment Vectors\n",
    "We want to manually evaluate the top 20 hits for each treatment analogy to check for drugs and drug targets.\n",
    "Finding drugs and drug targets in the top hits would suggest that the treatment vectors are in the right neighborhood."
   ]
  },
  {
   "cell_type": "code",
   "execution_count": 6,
   "metadata": {},
   "outputs": [],
   "source": [
    "metf_diab_sars_top20 = wv.most_similar(positive=[metf_diab_sars_v], topn=20)\n",
    "benz_hypr_sars_top20 = wv.most_similar(positive=[benz_hypr_sars_v], topn=20)\n",
    "albu_asth_sars_top20 = wv.most_similar(positive=[albu_asth_sars_v], topn=20)"
   ]
  },
  {
   "cell_type": "markdown",
   "metadata": {},
   "source": [
    "### Metformin/Diabetes Top 20"
   ]
  },
  {
   "cell_type": "code",
   "execution_count": 7,
   "metadata": {
    "scrolled": false
   },
   "outputs": [
    {
     "name": "stdout",
     "output_type": "stream",
     "text": [
      "('sars', 0.7350299954414368)\n",
      "('sars-cov', 0.5995138883590698)\n",
      "('sars-3cl', 0.5938767194747925)\n",
      "('sars-3clpro', 0.5917655229568481)\n",
      "('sars-like', 0.588849663734436)\n",
      "('sars-covs', 0.5769191980361938)\n",
      "('sars-cov-induced', 0.5742612481117249)\n",
      "('sars-cov-mediated', 0.5720081329345703)\n",
      "('sars-cov-like', 0.5706111192703247)\n",
      "('anti-sars-cov', 0.5702002048492432)\n",
      "('pcsars-cov', 0.5684103965759277)\n",
      "('hsars-cov', 0.5669524073600769)\n",
      "('sars-co', 0.5651364326477051)\n",
      "('anticoronaviral', 0.5618479251861572)\n",
      "('cantharimide', 0.560847818851471)\n",
      "('sar405', 0.5591368675231934)\n",
      "('peramivir', 0.5569697022438049)\n",
      "('norcantharidin-induced', 0.5555315017700195)\n",
      "('cantharidin-mediated', 0.5551379919052124)\n",
      "('delaviridine', 0.5549776554107666)\n"
     ]
    }
   ],
   "source": [
    "# just have a quick look at the hits and similarities\n",
    "print('\\n'.join([str(h) for h in metf_diab_sars_top20]))"
   ]
  },
  {
   "cell_type": "code",
   "execution_count": 8,
   "metadata": {},
   "outputs": [
    {
     "name": "stdout",
     "output_type": "stream",
     "text": [
      "sars \\\\\n",
      "sars-cov \\\\\n",
      "sars-3cl \\\\\n",
      "sars-3clpro \\\\\n",
      "sars-like \\\\\n",
      "sars-covs \\\\\n",
      "sars-cov-induced \\\\\n",
      "sars-cov-mediated \\\\\n",
      "sars-cov-like \\\\\n",
      "anti-sars-cov \\\\\n",
      "pcsars-cov \\\\\n",
      "hsars-cov \\\\\n",
      "sars-co \\\\\n",
      "anticoronaviral \\\\\n",
      "cantharimide \\\\\n",
      "sar405 \\\\\n",
      "peramivir \\\\\n",
      "norcantharidin-induced \\\\\n",
      "cantharidin-mediated \\\\\n",
      "delaviridine \\\\\n"
     ]
    }
   ],
   "source": [
    "# and clean them up for a LaTeX table\n",
    "print('\\n'.join(['{0} \\\\\\\\'.format(h[0]) for h in metf_diab_sars_top20]))"
   ]
  },
  {
   "cell_type": "markdown",
   "metadata": {},
   "source": [
    "### Benazepril/Hypertension Top 20"
   ]
  },
  {
   "cell_type": "code",
   "execution_count": 9,
   "metadata": {
    "scrolled": false
   },
   "outputs": [
    {
     "name": "stdout",
     "output_type": "stream",
     "text": [
      "('sars', 0.6842663288116455)\n",
      "('sars-3cl', 0.6048033237457275)\n",
      "('sars-3clpro', 0.5865695476531982)\n",
      "('sars-', 0.5783016681671143)\n",
      "('sars-cov', 0.5710662007331848)\n",
      "('sars-covs', 0.5611740350723267)\n",
      "('p-sars', 0.5571819543838501)\n",
      "('sars-like', 0.5532997250556946)\n",
      "('sarsp', 0.550118625164032)\n",
      "('sars-cov-like', 0.5482956171035767)\n",
      "('sars-hcov', 0.5416980981826782)\n",
      "('anti-sars-cov', 0.5390284061431885)\n",
      "('sars-s', 0.5341991186141968)\n",
      "('coronavirion', 0.5340977907180786)\n",
      "('lycodine', 0.5312058925628662)\n",
      "('sarspp', 0.5307182669639587)\n",
      "('sarse', 0.5294245481491089)\n",
      "('sars-cov-s', 0.5278017520904541)\n",
      "('sars-cov-', 0.5276678204536438)\n",
      "('pcsars-cov', 0.5257419943809509)\n"
     ]
    }
   ],
   "source": [
    "# just have a quick look at the hits and similarities\n",
    "print('\\n'.join([str(h) for h in benz_hypr_sars_top20]))"
   ]
  },
  {
   "cell_type": "code",
   "execution_count": 10,
   "metadata": {},
   "outputs": [
    {
     "name": "stdout",
     "output_type": "stream",
     "text": [
      "sars \\\\\n",
      "sars-3cl \\\\\n",
      "sars-3clpro \\\\\n",
      "sars- \\\\\n",
      "sars-cov \\\\\n",
      "sars-covs \\\\\n",
      "p-sars \\\\\n",
      "sars-like \\\\\n",
      "sarsp \\\\\n",
      "sars-cov-like \\\\\n",
      "sars-hcov \\\\\n",
      "anti-sars-cov \\\\\n",
      "sars-s \\\\\n",
      "coronavirion \\\\\n",
      "lycodine \\\\\n",
      "sarspp \\\\\n",
      "sarse \\\\\n",
      "sars-cov-s \\\\\n",
      "sars-cov- \\\\\n",
      "pcsars-cov \\\\\n"
     ]
    }
   ],
   "source": [
    "# and clean them up for a LaTeX table\n",
    "print('\\n'.join(['{0} \\\\\\\\'.format(h[0]) for h in benz_hypr_sars_top20]))"
   ]
  },
  {
   "cell_type": "markdown",
   "metadata": {},
   "source": [
    "### Albuterol/Asthma Top 20"
   ]
  },
  {
   "cell_type": "code",
   "execution_count": 11,
   "metadata": {
    "scrolled": true
   },
   "outputs": [
    {
     "name": "stdout",
     "output_type": "stream",
     "text": [
      "('sars', 0.7238022089004517)\n",
      "('sars-cov', 0.5882976055145264)\n",
      "('csars', 0.5856403112411499)\n",
      "('sars-covs', 0.5827744603157043)\n",
      "('sarspp', 0.5768841505050659)\n",
      "('sars-like', 0.5768048763275146)\n",
      "('sars-cov-like', 0.5722691416740417)\n",
      "('peramivir', 0.5660814046859741)\n",
      "('vero-pipecuronium', 0.5657573938369751)\n",
      "('sarsp', 0.5637783408164978)\n",
      "('pancuronium-metocurine', 0.5598682761192322)\n",
      "('sars-hcov', 0.5589520931243896)\n",
      "('sarse', 0.5587899684906006)\n",
      "('pcsars-cov', 0.5573617815971375)\n",
      "('sars-3cl', 0.5541791319847107)\n",
      "('p-sars', 0.5507079362869263)\n",
      "('sars-3clpro', 0.548815131187439)\n",
      "('sars-', 0.5467952489852905)\n",
      "('sars-coronavirus', 0.5443071722984314)\n",
      "('pralidoxime', 0.5440006852149963)\n"
     ]
    }
   ],
   "source": [
    "# just have a quick look at the hits and similarities\n",
    "print('\\n'.join([str(h) for h in albu_asth_sars_top20]))"
   ]
  },
  {
   "cell_type": "code",
   "execution_count": 12,
   "metadata": {},
   "outputs": [
    {
     "name": "stdout",
     "output_type": "stream",
     "text": [
      "sars \\\\\n",
      "sars-cov \\\\\n",
      "csars \\\\\n",
      "sars-covs \\\\\n",
      "sarspp \\\\\n",
      "sars-like \\\\\n",
      "sars-cov-like \\\\\n",
      "peramivir \\\\\n",
      "vero-pipecuronium \\\\\n",
      "sarsp \\\\\n",
      "pancuronium-metocurine \\\\\n",
      "sars-hcov \\\\\n",
      "sarse \\\\\n",
      "pcsars-cov \\\\\n",
      "sars-3cl \\\\\n",
      "p-sars \\\\\n",
      "sars-3clpro \\\\\n",
      "sars- \\\\\n",
      "sars-coronavirus \\\\\n",
      "pralidoxime \\\\\n"
     ]
    }
   ],
   "source": [
    "# and clean them up for a LaTeX table\n",
    "print('\\n'.join(['{0} \\\\\\\\'.format(h[0]) for h in albu_asth_sars_top20]))"
   ]
  },
  {
   "cell_type": "markdown",
   "metadata": {},
   "source": [
    "# Get Top 50 FDA Approved Drugs for Treatment Vectors\n",
    "We now sort all of the FDA approved drug vectors by their cosine similarity to the analogy vectors."
   ]
  },
  {
   "cell_type": "code",
   "execution_count": 13,
   "metadata": {},
   "outputs": [],
   "source": [
    "def get_ranked_drugs_for_treat_vec(treat_vector, drug_vec_tups, wv):\n",
    "    # first get the similarities for all drugs\n",
    "    dvs = [dt[1] for dt in drug_vec_tups]\n",
    "    drug_treat_sims = wv.cosine_similarities(treat_vector, dvs)\n",
    "    # then zip them up with the drug names\n",
    "    drug_sim_tups = [(dvt[0],drug_treat_sims[i]) for i,dvt in enumerate(drug_vec_tups)]\n",
    "    # and sort, descending\n",
    "    return sorted(drug_sim_tups, key=lambda x: x[1], reverse=True)"
   ]
  },
  {
   "cell_type": "code",
   "execution_count": 16,
   "metadata": {},
   "outputs": [],
   "source": [
    "metf_diab_drugs_top50 = get_ranked_drugs_for_treat_vec(metf_diab_sars_v, drug_vec_tups, wv)[:50]\n",
    "benz_hypr_drugs_top50 = get_ranked_drugs_for_treat_vec(benz_hypr_sars_v, drug_vec_tups, wv)[:50]\n",
    "albu_asth_drugs_top50 = get_ranked_drugs_for_treat_vec(albu_asth_sars_v, drug_vec_tups, wv)[:50]"
   ]
  },
  {
   "cell_type": "markdown",
   "metadata": {},
   "source": [
    "### Metformin/Diabetes Top 50"
   ]
  },
  {
   "cell_type": "code",
   "execution_count": 19,
   "metadata": {
    "scrolled": true
   },
   "outputs": [
    {
     "name": "stdout",
     "output_type": "stream",
     "text": [
      "('gilteritinib fumarate', 0.5596476)\n",
      "('peramivir', 0.55696976)\n",
      "('zanamivir', 0.5469999)\n",
      "('erdafitinib', 0.528765)\n",
      "('atovaquone and proguanil hydrochloride', 0.5266413)\n",
      "('rimantadine hydrochloride', 0.52499855)\n",
      "('delavirdine mesylate', 0.5242566)\n",
      "('atazanavir sulfate and ritonavir', 0.5215566)\n",
      "('cobimetinib fumarate', 0.520225)\n",
      "('niclosamide', 0.51958627)\n",
      "('lopinavir and ritonavir', 0.51907957)\n",
      "('temsirolimus', 0.51461643)\n",
      "('rilpivirine hydrochloride', 0.51084423)\n",
      "('alectinib hydrochloride', 0.5094976)\n",
      "('lefamulin acetate', 0.5077356)\n",
      "('perphenazine and amitriptyline hydrochloride', 0.5071963)\n",
      "('alogliptin and metformin hydrochloride', 0.506837)\n",
      "('tamiflu', 0.50654095)\n",
      "('selinexor', 0.5053856)\n",
      "('amprenavir', 0.50434387)\n",
      "('ibuprofen and diphenhydramine citrate', 0.5035539)\n",
      "('olanzapine and fluoxetine hydrochloride', 0.50291455)\n",
      "('probenecid and colchicine', 0.50227225)\n",
      "('erlotinib hydrochloride', 0.5016403)\n",
      "('bicalutamide', 0.5016144)\n",
      "('alomide', 0.50147206)\n",
      "('amantadine hydrochloride', 0.5013115)\n",
      "('azelastine hydrochloride and fluticasone propionate', 0.5008869)\n",
      "('revefenacin', 0.5004103)\n",
      "('imipramine pamoate', 0.5000387)\n",
      "('doravirine', 0.5000229)\n",
      "('rosiglitazone maleate and metformin hydrochloride', 0.4987201)\n",
      "('nefazodone hydrochloride', 0.49831775)\n",
      "('mefloquine hydrochloride', 0.49804157)\n",
      "('abacavir sulfate and lamivudine', 0.49790424)\n",
      "('carisoprodol compound', 0.49745345)\n",
      "('triprolidine and pseudoephedrine hydrochlorides codeine', 0.4970367)\n",
      "('soma compound codeine', 0.4970075)\n",
      "('chloroquine hydrochloride', 0.49607554)\n",
      "('saquinavir mesylate', 0.49556127)\n",
      "('linagliptin and metformin hydrochloride', 0.49545383)\n",
      "('nilutamide', 0.4947096)\n",
      "('memantine hydrochloride and donepezil hydrochloride', 0.49466503)\n",
      "('donepezil hydrochloride and memantine hydrochloride', 0.494665)\n",
      "('nelfinavir mesylate', 0.49460104)\n",
      "('ceritinib', 0.49452412)\n",
      "('virazole', 0.49377725)\n",
      "('vorinostat', 0.493377)\n",
      "('triprolidine and pseudoephedrine hydrochlorides', 0.49315724)\n",
      "('fulvestrant', 0.49243176)\n"
     ]
    }
   ],
   "source": [
    "# just have a quick look at the hits and similarities\n",
    "print('\\n'.join([str(h) for h in metf_diab_drugs_top50]))"
   ]
  },
  {
   "cell_type": "code",
   "execution_count": 22,
   "metadata": {
    "scrolled": true
   },
   "outputs": [
    {
     "name": "stdout",
     "output_type": "stream",
     "text": [
      "gilteritinib fumarate \\\\\n",
      "peramivir \\\\\n",
      "zanamivir \\\\\n",
      "erdafitinib \\\\\n",
      "atovaquone and proguanil hydrochloride \\\\\n",
      "rimantadine hydrochloride \\\\\n",
      "delavirdine mesylate \\\\\n",
      "atazanavir sulfate and ritonavir \\\\\n",
      "cobimetinib fumarate \\\\\n",
      "niclosamide \\\\\n",
      "lopinavir and ritonavir \\\\\n",
      "temsirolimus \\\\\n",
      "rilpivirine hydrochloride \\\\\n",
      "alectinib hydrochloride \\\\\n",
      "lefamulin acetate \\\\\n",
      "perphenazine and amitriptyline hydrochloride \\\\\n",
      "alogliptin and metformin hydrochloride \\\\\n",
      "tamiflu \\\\\n",
      "selinexor \\\\\n",
      "amprenavir \\\\\n",
      "ibuprofen and diphenhydramine citrate \\\\\n",
      "olanzapine and fluoxetine hydrochloride \\\\\n",
      "probenecid and colchicine \\\\\n",
      "erlotinib hydrochloride \\\\\n",
      "bicalutamide \\\\\n",
      "alomide \\\\\n",
      "amantadine hydrochloride \\\\\n",
      "azelastine hydrochloride and fluticasone propionate \\\\\n",
      "revefenacin \\\\\n",
      "imipramine pamoate \\\\\n",
      "doravirine \\\\\n",
      "rosiglitazone maleate and metformin hydrochloride \\\\\n",
      "nefazodone hydrochloride \\\\\n",
      "mefloquine hydrochloride \\\\\n",
      "abacavir sulfate and lamivudine \\\\\n",
      "carisoprodol compound \\\\\n",
      "triprolidine and pseudoephedrine hydrochlorides codeine \\\\\n",
      "soma compound codeine \\\\\n",
      "chloroquine hydrochloride \\\\\n",
      "saquinavir mesylate \\\\\n",
      "linagliptin and metformin hydrochloride \\\\\n",
      "nilutamide \\\\\n",
      "memantine hydrochloride and donepezil hydrochloride \\\\\n",
      "donepezil hydrochloride and memantine hydrochloride \\\\\n",
      "nelfinavir mesylate \\\\\n",
      "ceritinib \\\\\n",
      "virazole \\\\\n",
      "vorinostat \\\\\n",
      "triprolidine and pseudoephedrine hydrochlorides \\\\\n",
      "fulvestrant \\\\\n"
     ]
    }
   ],
   "source": [
    "# and clean them up for a LaTeX table\n",
    "print('\\n'.join(['{0} \\\\\\\\'.format(h[0]) for h in metf_diab_drugs_top50]))"
   ]
  },
  {
   "cell_type": "markdown",
   "metadata": {},
   "source": [
    "### Benazepril/Hypertension Top 50"
   ]
  },
  {
   "cell_type": "code",
   "execution_count": 20,
   "metadata": {
    "scrolled": true
   },
   "outputs": [
    {
     "name": "stdout",
     "output_type": "stream",
     "text": [
      "('peramivir', 0.5103268)\n",
      "('tamiflu', 0.4824001)\n",
      "('zanamivir', 0.4645741)\n",
      "('gilteritinib fumarate', 0.46427312)\n",
      "('rimantadine hydrochloride', 0.46177062)\n",
      "('benazepril hydrochloride', 0.45213768)\n",
      "('doravirine', 0.4503398)\n",
      "('galantamine hydrobromide', 0.44721016)\n",
      "('cetirizine hydrochloride hives', 0.44475797)\n",
      "('lanadelumab', 0.44420737)\n",
      "('aliskiren hemifumarate', 0.44316927)\n",
      "('desloratadine', 0.44266012)\n",
      "('entacapone', 0.4421384)\n",
      "('invirase', 0.44047087)\n",
      "('daclatasvir dihydrochloride', 0.44043508)\n",
      "('indacaterol maleate', 0.44023758)\n",
      "('loratadine', 0.43836826)\n",
      "('peganone', 0.43726075)\n",
      "('nitazoxanide', 0.43708813)\n",
      "('denavir', 0.43477327)\n",
      "('triprolidine and pseudoephedrine hydrochlorides codeine', 0.43261552)\n",
      "('rivastigmine', 0.43223038)\n",
      "('telavancin hydrochloride', 0.43162748)\n",
      "('donepezil hydrochloride', 0.43145007)\n",
      "('triprolidine and pseudoephedrine hydrochlorides', 0.43077922)\n",
      "('tazemetostat hydrobromide', 0.43050787)\n",
      "('relenza', 0.43031728)\n",
      "('benazepril hydrochloride and hydrochlorothiazide', 0.4297971)\n",
      "('nulojix', 0.42957097)\n",
      "('ecallantide', 0.42931813)\n",
      "('alectinib hydrochloride', 0.42914042)\n",
      "('virazole', 0.4289523)\n",
      "('levocetirizine hydrochloride', 0.4282249)\n",
      "('memantine hydrochloride and donepezil hydrochloride', 0.42781284)\n",
      "('donepezil hydrochloride and memantine hydrochloride', 0.4278128)\n",
      "('amantadine hydrochloride', 0.4278096)\n",
      "('cetirizine hydrochloride', 0.42746675)\n",
      "('comtan', 0.42717507)\n",
      "('fluvoxamine maleate', 0.42711923)\n",
      "('amlodipine besylate and benazepril hydrochloride', 0.42711344)\n",
      "('delafloxacin meglumine', 0.4266588)\n",
      "('acrivastine', 0.4259761)\n",
      "('dalbavancin hydrochloride', 0.42570648)\n",
      "('fexofenadine hydrochloride hives', 0.4252576)\n",
      "('rilpivirine hydrochloride', 0.4251405)\n",
      "('aricept', 0.42452297)\n",
      "('bendamustine hydrochloride', 0.4242568)\n",
      "('viramune xr', 0.42390582)\n",
      "('revefenacin', 0.42344072)\n",
      "('olodaterol hydrochloride', 0.4232949)\n"
     ]
    }
   ],
   "source": [
    "# just have a quick look at the hits and similarities\n",
    "print('\\n'.join([str(h) for h in benz_hypr_drugs_top50]))"
   ]
  },
  {
   "cell_type": "code",
   "execution_count": 23,
   "metadata": {
    "scrolled": true
   },
   "outputs": [
    {
     "name": "stdout",
     "output_type": "stream",
     "text": [
      "peramivir \\\\\n",
      "tamiflu \\\\\n",
      "zanamivir \\\\\n",
      "gilteritinib fumarate \\\\\n",
      "rimantadine hydrochloride \\\\\n",
      "benazepril hydrochloride \\\\\n",
      "doravirine \\\\\n",
      "galantamine hydrobromide \\\\\n",
      "cetirizine hydrochloride hives \\\\\n",
      "lanadelumab \\\\\n",
      "aliskiren hemifumarate \\\\\n",
      "desloratadine \\\\\n",
      "entacapone \\\\\n",
      "invirase \\\\\n",
      "daclatasvir dihydrochloride \\\\\n",
      "indacaterol maleate \\\\\n",
      "loratadine \\\\\n",
      "peganone \\\\\n",
      "nitazoxanide \\\\\n",
      "denavir \\\\\n",
      "triprolidine and pseudoephedrine hydrochlorides codeine \\\\\n",
      "rivastigmine \\\\\n",
      "telavancin hydrochloride \\\\\n",
      "donepezil hydrochloride \\\\\n",
      "triprolidine and pseudoephedrine hydrochlorides \\\\\n",
      "tazemetostat hydrobromide \\\\\n",
      "relenza \\\\\n",
      "benazepril hydrochloride and hydrochlorothiazide \\\\\n",
      "nulojix \\\\\n",
      "ecallantide \\\\\n",
      "alectinib hydrochloride \\\\\n",
      "virazole \\\\\n",
      "levocetirizine hydrochloride \\\\\n",
      "memantine hydrochloride and donepezil hydrochloride \\\\\n",
      "donepezil hydrochloride and memantine hydrochloride \\\\\n",
      "amantadine hydrochloride \\\\\n",
      "cetirizine hydrochloride \\\\\n",
      "comtan \\\\\n",
      "fluvoxamine maleate \\\\\n",
      "amlodipine besylate and benazepril hydrochloride \\\\\n",
      "delafloxacin meglumine \\\\\n",
      "acrivastine \\\\\n",
      "dalbavancin hydrochloride \\\\\n",
      "fexofenadine hydrochloride hives \\\\\n",
      "rilpivirine hydrochloride \\\\\n",
      "aricept \\\\\n",
      "bendamustine hydrochloride \\\\\n",
      "viramune xr \\\\\n",
      "revefenacin \\\\\n",
      "olodaterol hydrochloride \\\\\n"
     ]
    }
   ],
   "source": [
    "# and clean them up for a LaTeX table\n",
    "print('\\n'.join(['{0} \\\\\\\\'.format(h[0]) for h in benz_hypr_drugs_top50]))"
   ]
  },
  {
   "cell_type": "markdown",
   "metadata": {},
   "source": [
    "### Albuterol/Asthma Top 50"
   ]
  },
  {
   "cell_type": "code",
   "execution_count": 21,
   "metadata": {
    "scrolled": true
   },
   "outputs": [
    {
     "name": "stdout",
     "output_type": "stream",
     "text": [
      "('peramivir', 0.56608146)\n",
      "('albuterol', 0.5404904)\n",
      "('albuterol sulfate', 0.5352649)\n",
      "('albuterol sulfate and ipratropium bromide', 0.5332952)\n",
      "('zanamivir', 0.5239428)\n",
      "('rimantadine hydrochloride', 0.5186332)\n",
      "('pralidoxime chloride', 0.5143588)\n",
      "('meperidine and atropine sulfate', 0.5116007)\n",
      "('amantadine hydrochloride', 0.505163)\n",
      "('doxacurium chloride', 0.5038774)\n",
      "('biperiden lactate', 0.5019073)\n",
      "('atropine sulfate syringe', 0.49847904)\n",
      "('gallamine triethiodide', 0.4982666)\n",
      "('atropine and demerol', 0.49669114)\n",
      "('colistin sulfate', 0.49553096)\n",
      "('oseltamivir phosphate', 0.49364558)\n",
      "('revefenacin', 0.49357465)\n",
      "('dextromethorphan hydrobromide and quinidine sulfate', 0.49159467)\n",
      "('conivaptan hydrochloride', 0.48869854)\n",
      "('glycopyrronium tosylate', 0.4879885)\n",
      "('cefiderocol sulfate tosylate', 0.48789614)\n",
      "('fentanyl citrate and droperidol', 0.48749727)\n",
      "('pancuronium bromide', 0.4874306)\n",
      "('relenza', 0.486462)\n",
      "('telavancin hydrochloride', 0.48618492)\n",
      "('guaifenesin and dextromethorphan hydrobromide', 0.48486853)\n",
      "('diphenoxylate hydrochloride and atropine sulfate', 0.48394528)\n",
      "('esketamine hydrochloride', 0.48374817)\n",
      "('galantamine hydrobromide', 0.48364604)\n",
      "('naloxone hydrochloride and pentazocine hydrochloride', 0.48278204)\n",
      "('glycopyrrolate', 0.48198077)\n",
      "('levalbuterol hydrochloride', 0.48132494)\n",
      "('calfactant', 0.481312)\n",
      "('rilpivirine hydrochloride', 0.48052657)\n",
      "('pipecuronium bromide', 0.47908494)\n",
      "('tamiflu', 0.4784094)\n",
      "('biperiden hydrochloride', 0.47836295)\n",
      "('mivacurium chloride', 0.47734246)\n",
      "('metocurine iodide', 0.47729245)\n",
      "('ceftolozane sulfate', 0.47637686)\n",
      "('atropine sulfate', 0.47583446)\n",
      "('terbutaline sulfate', 0.47552338)\n",
      "('nesiritide recombinant', 0.47493473)\n",
      "('diphenoxylate hydrochloride atropine sulfate', 0.4749049)\n",
      "('tubocurarine chloride', 0.47398484)\n",
      "('benzonatate', 0.47296503)\n",
      "('rapacuronium bromide', 0.47270375)\n",
      "('naloxone hydrochloride', 0.47136608)\n",
      "('propoxyphene hydrochloride and acetaminophen', 0.4713022)\n",
      "('acetaminophen and pentazocine hydrochloride', 0.47124577)\n"
     ]
    }
   ],
   "source": [
    "# just have a quick look at the hits and similarities\n",
    "print('\\n'.join([str(h) for h in albu_asth_drugs_top50]))"
   ]
  },
  {
   "cell_type": "code",
   "execution_count": 24,
   "metadata": {
    "scrolled": true
   },
   "outputs": [
    {
     "name": "stdout",
     "output_type": "stream",
     "text": [
      "peramivir \\\\\n",
      "albuterol \\\\\n",
      "albuterol sulfate \\\\\n",
      "albuterol sulfate and ipratropium bromide \\\\\n",
      "zanamivir \\\\\n",
      "rimantadine hydrochloride \\\\\n",
      "pralidoxime chloride \\\\\n",
      "meperidine and atropine sulfate \\\\\n",
      "amantadine hydrochloride \\\\\n",
      "doxacurium chloride \\\\\n",
      "biperiden lactate \\\\\n",
      "atropine sulfate syringe \\\\\n",
      "gallamine triethiodide \\\\\n",
      "atropine and demerol \\\\\n",
      "colistin sulfate \\\\\n",
      "oseltamivir phosphate \\\\\n",
      "revefenacin \\\\\n",
      "dextromethorphan hydrobromide and quinidine sulfate \\\\\n",
      "conivaptan hydrochloride \\\\\n",
      "glycopyrronium tosylate \\\\\n",
      "cefiderocol sulfate tosylate \\\\\n",
      "fentanyl citrate and droperidol \\\\\n",
      "pancuronium bromide \\\\\n",
      "relenza \\\\\n",
      "telavancin hydrochloride \\\\\n",
      "guaifenesin and dextromethorphan hydrobromide \\\\\n",
      "diphenoxylate hydrochloride and atropine sulfate \\\\\n",
      "esketamine hydrochloride \\\\\n",
      "galantamine hydrobromide \\\\\n",
      "naloxone hydrochloride and pentazocine hydrochloride \\\\\n",
      "glycopyrrolate \\\\\n",
      "levalbuterol hydrochloride \\\\\n",
      "calfactant \\\\\n",
      "rilpivirine hydrochloride \\\\\n",
      "pipecuronium bromide \\\\\n",
      "tamiflu \\\\\n",
      "biperiden hydrochloride \\\\\n",
      "mivacurium chloride \\\\\n",
      "metocurine iodide \\\\\n",
      "ceftolozane sulfate \\\\\n",
      "atropine sulfate \\\\\n",
      "terbutaline sulfate \\\\\n",
      "nesiritide recombinant \\\\\n",
      "diphenoxylate hydrochloride atropine sulfate \\\\\n",
      "tubocurarine chloride \\\\\n",
      "benzonatate \\\\\n",
      "rapacuronium bromide \\\\\n",
      "naloxone hydrochloride \\\\\n",
      "propoxyphene hydrochloride and acetaminophen \\\\\n",
      "acetaminophen and pentazocine hydrochloride \\\\\n"
     ]
    }
   ],
   "source": [
    "# and clean them up for a LaTeX table\n",
    "print('\\n'.join(['{0} \\\\\\\\'.format(h[0]) for h in albu_asth_drugs_top50]))"
   ]
  },
  {
   "cell_type": "markdown",
   "metadata": {},
   "source": [
    "# Inspect Commonalities\n",
    "We want to inspect commonalities amongst the different groups to both validate consistency of the method and to find higher confidence hits."
   ]
  },
  {
   "cell_type": "code",
   "execution_count": 30,
   "metadata": {},
   "outputs": [],
   "source": [
    "metf_diab_drug_set = {h[0] for h in metf_diab_drugs_top50}\n",
    "benz_hypr_drug_set = {h[0] for h in benz_hypr_drugs_top50}\n",
    "albu_asth_drug_set = {h[0] for h in albu_asth_drugs_top50}"
   ]
  },
  {
   "cell_type": "code",
   "execution_count": 31,
   "metadata": {},
   "outputs": [
    {
     "name": "stdout",
     "output_type": "stream",
     "text": [
      "Common to all: 7\n",
      "amantadine hydrochloride\n",
      "peramivir\n",
      "revefenacin\n",
      "rilpivirine hydrochloride\n",
      "rimantadine hydrochloride\n",
      "tamiflu\n",
      "zanamivir\n"
     ]
    }
   ],
   "source": [
    "# look at the exact intersect of all\n",
    "full_intersect = metf_diab_drug_set & benz_hypr_drug_set & albu_asth_drug_set\n",
    "print('Common to all: {0}'.format(len(full_intersect)))\n",
    "print('\\n'.join(sorted(full_intersect)))"
   ]
  },
  {
   "cell_type": "code",
   "execution_count": 32,
   "metadata": {},
   "outputs": [
    {
     "name": "stdout",
     "output_type": "stream",
     "text": [
      "Common to two: 11\n",
      "alectinib hydrochloride\n",
      "donepezil hydrochloride and memantine hydrochloride\n",
      "doravirine\n",
      "galantamine hydrobromide\n",
      "gilteritinib fumarate\n",
      "memantine hydrochloride and donepezil hydrochloride\n",
      "relenza\n",
      "telavancin hydrochloride\n",
      "triprolidine and pseudoephedrine hydrochlorides\n",
      "triprolidine and pseudoephedrine hydrochlorides codeine\n",
      "virazole\n"
     ]
    }
   ],
   "source": [
    "# and look at the 2-set common drugs\n",
    "metf_benz = metf_diab_drug_set & benz_hypr_drug_set\n",
    "benz_albu = benz_hypr_drug_set & albu_asth_drug_set\n",
    "albu_metf = albu_asth_drug_set & metf_diab_drug_set\n",
    "two_agree_intersect = (metf_benz | benz_albu | albu_metf) - full_intersect\n",
    "print('Common to two: {0}'.format(len(two_agree_intersect)))\n",
    "print('\\n'.join(sorted(two_agree_intersect)))"
   ]
  },
  {
   "cell_type": "code",
   "execution_count": null,
   "metadata": {},
   "outputs": [],
   "source": []
  }
 ],
 "metadata": {
  "kernelspec": {
   "display_name": "Python 3",
   "language": "python",
   "name": "python3"
  },
  "language_info": {
   "codemirror_mode": {
    "name": "ipython",
    "version": 3
   },
   "file_extension": ".py",
   "mimetype": "text/x-python",
   "name": "python",
   "nbconvert_exporter": "python",
   "pygments_lexer": "ipython3",
   "version": "3.8.2"
  }
 },
 "nbformat": 4,
 "nbformat_minor": 4
}

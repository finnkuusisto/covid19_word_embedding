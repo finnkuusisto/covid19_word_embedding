{
 "cells": [
  {
   "cell_type": "code",
   "execution_count": 1,
   "metadata": {},
   "outputs": [],
   "source": [
    "import numpy as np\n",
    "\n",
    "from gensim.models import KeyedVectors\n",
    "wv = KeyedVectors.load_word2vec_format('bio_embedding_intrinsic', binary=True)"
   ]
  },
  {
   "cell_type": "code",
   "execution_count": 2,
   "metadata": {
    "scrolled": true
   },
   "outputs": [
    {
     "data": {
      "text/plain": [
       "[('sars', 0.7888232469558716),\n",
       " ('sars-cov', 0.6438330411911011),\n",
       " ('sars-like', 0.6336638927459717),\n",
       " ('sars-3cl', 0.630207896232605),\n",
       " ('sars-3clpro', 0.6260414719581604),\n",
       " ('sars-covs', 0.6188393831253052),\n",
       " ('anti-sars-cov', 0.6149972677230835),\n",
       " ('sars-cov-induced', 0.6125013828277588),\n",
       " ('sars-cov-mediated', 0.6122388243675232),\n",
       " ('hsars-cov', 0.6096910238265991),\n",
       " ('pcsars-cov', 0.609371542930603),\n",
       " ('sars-cov-like', 0.60799241065979),\n",
       " ('sars-co', 0.6049235463142395),\n",
       " ('anticoronaviral', 0.6001306176185608),\n",
       " ('p-sars', 0.5944416522979736),\n",
       " ('sars-coronavirus', 0.5917157530784607),\n",
       " ('anticoronavirus', 0.5908255577087402),\n",
       " ('sars-cov-', 0.5900379419326782),\n",
       " ('coronaviral', 0.5898032188415527),\n",
       " ('anti-sars', 0.5894895792007446),\n",
       " ('sarsh', 0.5868194103240967),\n",
       " ('anti-coronaviral', 0.5848150253295898),\n",
       " ('coronavirion', 0.5847545862197876),\n",
       " ('csars', 0.5837504267692566),\n",
       " ('antifiloviral', 0.5801987648010254),\n",
       " ('peramivir', 0.5795677900314331),\n",
       " ('sarscov', 0.579400360584259),\n",
       " ('delaviridine', 0.5788864493370056),\n",
       " ('sars-induced', 0.5777819156646729),\n",
       " ('sars-associated', 0.5775206089019775),\n",
       " ('2-rimantadine', 0.5772789120674133),\n",
       " ('mers-cov', 0.5766634345054626),\n",
       " ('oseltamivir-conjugated', 0.5746778249740601),\n",
       " ('coronavirus-based', 0.5744205713272095),\n",
       " ('mers', 0.5742301344871521),\n",
       " ('sar405', 0.5737809538841248),\n",
       " ('coronavirus-mediated', 0.5730257630348206),\n",
       " ('coronavirus-receptor', 0.5730191469192505),\n",
       " ('pan-coronavirus', 0.5729820132255554),\n",
       " ('anti-coronavirus', 0.5718830227851868),\n",
       " ('cantharidin-based', 0.5718101263046265),\n",
       " ('cantharimide', 0.571784496307373),\n",
       " ('norcantharidin-induced', 0.571295440196991),\n",
       " ('sars-', 0.5705726146697998),\n",
       " ('cantharidin-mediated', 0.5701693296432495),\n",
       " ('rimantadine-resistant', 0.5699713826179504),\n",
       " ('dual-inhibitor', 0.5688484311103821),\n",
       " ('zanamivir', 0.568822979927063),\n",
       " ('coronavirus-host', 0.5679503679275513),\n",
       " ('plpro', 0.5676535367965698)]"
      ]
     },
     "execution_count": 2,
     "metadata": {},
     "output_type": "execute_result"
    }
   ],
   "source": [
    "v = wv['metformin'] - wv['diabetes'] + wv['sars']\n",
    "wv.most_similar(np.array([v]), topn=50)"
   ]
  },
  {
   "cell_type": "code",
   "execution_count": 3,
   "metadata": {},
   "outputs": [
    {
     "name": "stdout",
     "output_type": "stream",
     "text": [
      "4.0383525\n",
      "3.7292686\n",
      "4.4895287\n"
     ]
    }
   ],
   "source": [
    "print(np.linalg.norm(wv['metformin']))\n",
    "print(np.linalg.norm(wv['diabetes']))\n",
    "print(np.linalg.norm(wv['sars']))"
   ]
  },
  {
   "cell_type": "code",
   "execution_count": 4,
   "metadata": {
    "scrolled": true
   },
   "outputs": [
    {
     "data": {
      "text/plain": [
       "[('sars', 0.735029935836792),\n",
       " ('sars-cov', 0.5995138883590698),\n",
       " ('sars-3cl', 0.5938767194747925),\n",
       " ('sars-3clpro', 0.5917655229568481),\n",
       " ('sars-like', 0.588849663734436),\n",
       " ('sars-covs', 0.5769191980361938),\n",
       " ('sars-cov-induced', 0.5742613077163696),\n",
       " ('sars-cov-mediated', 0.5720081925392151),\n",
       " ('sars-cov-like', 0.5706111788749695),\n",
       " ('anti-sars-cov', 0.5702000856399536),\n",
       " ('pcsars-cov', 0.5684103965759277),\n",
       " ('hsars-cov', 0.5669524669647217),\n",
       " ('sars-co', 0.5651364326477051),\n",
       " ('anticoronaviral', 0.561847984790802),\n",
       " ('cantharimide', 0.5608478784561157),\n",
       " ('sar405', 0.5591368675231934),\n",
       " ('peramivir', 0.5569697618484497),\n",
       " ('norcantharidin-induced', 0.5555316209793091),\n",
       " ('cantharidin-mediated', 0.555138111114502),\n",
       " ('delaviridine', 0.5549775958061218),\n",
       " ('sarsh', 0.5539019107818604),\n",
       " ('2-rimantadine', 0.5537103414535522),\n",
       " ('p-sars', 0.5533959865570068),\n",
       " ('sars-cov-', 0.5527392625808716),\n",
       " ('chelidonine', 0.552355170249939),\n",
       " ('cantharidin-based', 0.5517821311950684),\n",
       " ('dual-inhibitor', 0.5513182282447815),\n",
       " ('katamine', 0.5507988333702087),\n",
       " ('antifiloviral', 0.5498783588409424),\n",
       " ('anticoronavirus', 0.5492631793022156),\n",
       " ('norcantharimide', 0.5492125153541565),\n",
       " ('nvp-bez-235', 0.5489909648895264),\n",
       " ('csars', 0.5485132932662964),\n",
       " ('cantharidin-sensitive', 0.5476962924003601),\n",
       " ('sarscov', 0.547585129737854),\n",
       " ('coronaviral', 0.5472294092178345),\n",
       " ('zanamivir', 0.5469999313354492),\n",
       " ('oseltamivir-conjugated', 0.5467706918716431),\n",
       " ('coronavirion', 0.5460412502288818),\n",
       " ('turbinamide', 0.5449963212013245),\n",
       " ('sars-coronavirus', 0.544929563999176),\n",
       " ('pan-inhibitor', 0.5439003705978394),\n",
       " ('lycodine', 0.5438421964645386),\n",
       " ('resminostat', 0.543441653251648),\n",
       " ('anti-sars', 0.5429974794387817),\n",
       " ('cantharidine', 0.5426815152168274),\n",
       " ('anti-coronaviral', 0.5425580739974976),\n",
       " ('inhibitor-sensitizing', 0.5415160655975342),\n",
       " ('dehydronorcantharidin', 0.5411206483840942),\n",
       " ('norcantharimides', 0.5407969951629639)]"
      ]
     },
     "execution_count": 4,
     "metadata": {},
     "output_type": "execute_result"
    }
   ],
   "source": [
    "metf_v = wv['metformin'] / np.linalg.norm(wv['metformin'])\n",
    "diab_v = wv['diabetes'] / np.linalg.norm(wv['diabetes'])\n",
    "sars_v = wv['sars'] / np.linalg.norm(wv['sars'])\n",
    "wv.most_similar(np.array([metf_v - diab_v + sars_v]), topn=50)"
   ]
  },
  {
   "cell_type": "code",
   "execution_count": 5,
   "metadata": {
    "scrolled": true
   },
   "outputs": [
    {
     "data": {
      "text/plain": [
       "[('sars-cov', 0.599513828754425),\n",
       " ('sars-3cl', 0.5938766598701477),\n",
       " ('sars-3clpro', 0.5917655229568481),\n",
       " ('sars-like', 0.5888496041297913),\n",
       " ('sars-covs', 0.5769191980361938),\n",
       " ('sars-cov-induced', 0.5742613077163696),\n",
       " ('sars-cov-mediated', 0.5720080733299255),\n",
       " ('sars-cov-like', 0.5706111192703247),\n",
       " ('anti-sars-cov', 0.5702000856399536),\n",
       " ('pcsars-cov', 0.5684103965759277),\n",
       " ('hsars-cov', 0.5669524669647217),\n",
       " ('sars-co', 0.5651364326477051),\n",
       " ('anticoronaviral', 0.5618479251861572),\n",
       " ('cantharimide', 0.560847818851471),\n",
       " ('sar405', 0.5591368675231934),\n",
       " ('peramivir', 0.5569697022438049),\n",
       " ('norcantharidin-induced', 0.5555315017700195),\n",
       " ('cantharidin-mediated', 0.5551379919052124),\n",
       " ('delaviridine', 0.554977536201477),\n",
       " ('sarsh', 0.5539019107818604),\n",
       " ('2-rimantadine', 0.5537103414535522),\n",
       " ('p-sars', 0.5533959865570068),\n",
       " ('sars-cov-', 0.5527392029762268),\n",
       " ('chelidonine', 0.552355170249939),\n",
       " ('cantharidin-based', 0.5517820715904236),\n",
       " ('dual-inhibitor', 0.5513181686401367),\n",
       " ('katamine', 0.550798773765564),\n",
       " ('antifiloviral', 0.5498782992362976),\n",
       " ('anticoronavirus', 0.5492631196975708),\n",
       " ('norcantharimide', 0.5492124557495117),\n",
       " ('nvp-bez-235', 0.5489909648895264),\n",
       " ('csars', 0.5485132932662964),\n",
       " ('cantharidin-sensitive', 0.5476962924003601),\n",
       " ('sarscov', 0.547585129737854),\n",
       " ('coronaviral', 0.5472294092178345),\n",
       " ('zanamivir', 0.5469998717308044),\n",
       " ('oseltamivir-conjugated', 0.5467706918716431),\n",
       " ('coronavirion', 0.5460413098335266),\n",
       " ('turbinamide', 0.5449963212013245),\n",
       " ('sars-coronavirus', 0.5449295043945312),\n",
       " ('pan-inhibitor', 0.5439003705978394),\n",
       " ('lycodine', 0.5438421368598938),\n",
       " ('resminostat', 0.543441653251648),\n",
       " ('anti-sars', 0.542997419834137),\n",
       " ('cantharidine', 0.5426815152168274),\n",
       " ('anti-coronaviral', 0.5425580143928528),\n",
       " ('inhibitor-sensitizing', 0.5415160655975342),\n",
       " ('dehydronorcantharidin', 0.5411205887794495),\n",
       " ('norcantharimides', 0.5407969951629639),\n",
       " ('nvp-231', 0.5404978394508362)]"
      ]
     },
     "execution_count": 5,
     "metadata": {},
     "output_type": "execute_result"
    }
   ],
   "source": [
    "wv.most_similar(positive=['sars', 'metformin'], negative=['diabetes'], topn=50)"
   ]
  },
  {
   "cell_type": "code",
   "execution_count": 6,
   "metadata": {
    "scrolled": true
   },
   "outputs": [
    {
     "data": {
      "text/plain": [
       "[('cantharimide', 0.8812281489372253),\n",
       " ('sars-3clpro', 0.8788511157035828),\n",
       " ('sars-3cl', 0.8778709173202515),\n",
       " ('chelidonine', 0.8775564432144165),\n",
       " ('sar405', 0.8769442439079285),\n",
       " ('ly2523355', 0.8736880421638489),\n",
       " ('turbinamide', 0.871955394744873),\n",
       " ('peramivir', 0.8703062534332275),\n",
       " ('sars-cov', 0.8696171641349792),\n",
       " ('cantharidin-mediated', 0.8688936829566956),\n",
       " ('katamine', 0.8688305020332336),\n",
       " ('sars-cov-induced', 0.8673213720321655),\n",
       " ('dual-inhibitor', 0.866682767868042),\n",
       " ('norcantharimide', 0.8661587238311768),\n",
       " ('2-rimantadine', 0.8660918474197388),\n",
       " ('delaviridine', 0.8656397461891174),\n",
       " ('motuporamine', 0.8655034303665161),\n",
       " ('lycodine', 0.8650528192520142),\n",
       " ('cantharidin-based', 0.864751398563385),\n",
       " ('cantharidine', 0.8642935156822205),\n",
       " ('norcantharidin-induced', 0.8641064763069153),\n",
       " ('zanamivir', 0.8634258508682251),\n",
       " ('cantharimides', 0.8633273839950562),\n",
       " ('sars-cov-mediated', 0.8629789352416992),\n",
       " ('nvp-231', 0.8608194589614868),\n",
       " ('norcantharimides', 0.8604865074157715),\n",
       " ('cantharidin-sensitive', 0.8604730367660522),\n",
       " ('nvp-bez-235', 0.8603833913803101),\n",
       " ('chlorahololide', 0.8603324294090271),\n",
       " ('cantharidinimide', 0.8595893383026123),\n",
       " ('ly253963', 0.8589098453521729),\n",
       " ('antifiloviral', 0.8588765859603882),\n",
       " ('sars-like', 0.8586938381195068),\n",
       " ('oseltamivir-conjugated', 0.8581612706184387),\n",
       " ('mk-0536', 0.8581233620643616),\n",
       " ('gracilamine', 0.8580499887466431),\n",
       " ('anticoronaviral', 0.857332706451416),\n",
       " ('rimantadine', 0.8572701811790466),\n",
       " ('dehydronorcantharidin', 0.8567619323730469),\n",
       " ('ozeltamivir', 0.8567216992378235),\n",
       " ('pcsars-cov', 0.8565396070480347),\n",
       " ('herpetolide', 0.8559165000915527),\n",
       " ('anti-sars-cov', 0.8558474183082581),\n",
       " ('cylindramide', 0.8554232716560364),\n",
       " ('pan-inhibitor', 0.8553535342216492),\n",
       " ('sars-cov-like', 0.8552721738815308),\n",
       " ('-oseltamivir', 0.8550982475280762),\n",
       " ('sarsh', 0.854881763458252),\n",
       " ('barasertib', 0.8547942638397217),\n",
       " ('sars-covs', 0.8541404008865356)]"
      ]
     },
     "execution_count": 6,
     "metadata": {},
     "output_type": "execute_result"
    }
   ],
   "source": [
    "wv.most_similar_cosmul(positive=['sars', 'metformin'], negative=['diabetes'], topn=50)"
   ]
  },
  {
   "cell_type": "code",
   "execution_count": 8,
   "metadata": {
    "scrolled": true
   },
   "outputs": [
    {
     "data": {
      "text/plain": [
       "[('dendrimer-risperidone', 0.8690656423568726),\n",
       " ('anticoronaviral', 0.8620390295982361),\n",
       " ('peramivir', 0.8600692749023438),\n",
       " ('oseltamivir-conjugated', 0.8572195768356323),\n",
       " ('mers-cov', 0.8560242652893066),\n",
       " ('antifiloviral', 0.8559310436248779),\n",
       " ('rilpivirine-resistant', 0.8551672101020813),\n",
       " ('r-bicalutamide', 0.8542699813842773),\n",
       " ('acetylamoxapine', 0.8532236814498901),\n",
       " ('anisamide', 0.8513948321342468),\n",
       " ('mers-cov-associated', 0.850980281829834),\n",
       " ('amantadine', 0.8495458364486694),\n",
       " ('erdafitinib', 0.8491910099983215),\n",
       " ('anti-ebov', 0.8490391969680786),\n",
       " ('rimantadine-resistant', 0.8483065962791443),\n",
       " ('theophylline-cimetidine', 0.8482416868209839),\n",
       " ('anti-coronaviral', 0.8452162742614746),\n",
       " ('rimantadine', 0.8451101779937744),\n",
       " ('fulvestrant-mediated', 0.8443246483802795),\n",
       " ('cimetidine-resistant', 0.8438136577606201),\n",
       " ('oseltamivir', 0.8434513211250305),\n",
       " ('anticoronavirus', 0.842898428440094),\n",
       " ('delavirdine-resistant', 0.842859148979187),\n",
       " ('sars-cov-induced', 0.8424387574195862),\n",
       " ('mers-like', 0.8414033055305481),\n",
       " ('chlorpromazine-blocked', 0.8410755395889282),\n",
       " ('amantadine-resistant', 0.8408273458480835),\n",
       " ('anti-ebolavirus', 0.8405751585960388),\n",
       " ('theophylline-resistant', 0.8404098153114319),\n",
       " ('lonidamine', 0.8403697609901428),\n",
       " ('oseltamivir-induced', 0.8399970531463623),\n",
       " ('lhrh-antagonists', 0.8396192193031311),\n",
       " ('nal-glu-flutamide', 0.8393183350563049),\n",
       " ('bicalutamide-resistant', 0.8390332460403442),\n",
       " ('n-acetylamoxapine', 0.8389632105827332),\n",
       " ('citidine', 0.8386231064796448),\n",
       " ('2-rimantadine', 0.8382359743118286),\n",
       " ('anti-mers-cov', 0.8381972312927246),\n",
       " ('ribovirine', 0.8379557132720947),\n",
       " ('nilutamide', 0.8378450274467468),\n",
       " ('turbinamide', 0.8371402621269226),\n",
       " ('dideoxy-terminated', 0.8369137048721313),\n",
       " ('didanosine-resistant', 0.8367576003074646),\n",
       " ('zanamivir', 0.8366976380348206),\n",
       " ('coronaviral', 0.8362834453582764),\n",
       " ('amantadine-resistance', 0.836129367351532),\n",
       " ('acetylamantadine', 0.8358778357505798),\n",
       " ('ebov-induced', 0.8358411192893982),\n",
       " ('favipiravir', 0.8353803753852844),\n",
       " ('fulvestrant-induced', 0.8350238800048828)]"
      ]
     },
     "execution_count": 8,
     "metadata": {},
     "output_type": "execute_result"
    }
   ],
   "source": [
    "wv.most_similar_cosmul(positive=['mers', 'metformin'], negative=['diabetes'], topn=50)"
   ]
  },
  {
   "cell_type": "code",
   "execution_count": null,
   "metadata": {},
   "outputs": [],
   "source": []
  }
 ],
 "metadata": {
  "kernelspec": {
   "display_name": "Python 3",
   "language": "python",
   "name": "python3"
  },
  "language_info": {
   "codemirror_mode": {
    "name": "ipython",
    "version": 3
   },
   "file_extension": ".py",
   "mimetype": "text/x-python",
   "name": "python",
   "nbconvert_exporter": "python",
   "pygments_lexer": "ipython3",
   "version": "3.7.5"
  }
 },
 "nbformat": 4,
 "nbformat_minor": 4
}

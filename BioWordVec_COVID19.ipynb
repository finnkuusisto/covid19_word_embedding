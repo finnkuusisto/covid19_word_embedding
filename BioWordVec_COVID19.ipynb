{
 "cells": [
  {
   "cell_type": "code",
   "execution_count": 7,
   "metadata": {},
   "outputs": [],
   "source": [
    "import numpy as np\n",
    "\n",
    "from gensim.models import KeyedVectors\n",
    "wv = KeyedVectors.load_word2vec_format('bio_embedding_intrinsic', binary=True)"
   ]
  },
  {
   "cell_type": "code",
   "execution_count": 10,
   "metadata": {
    "scrolled": true
   },
   "outputs": [
    {
     "data": {
      "text/plain": [
       "[('sars', 0.7888232469558716),\n",
       " ('sars-cov', 0.6438330411911011),\n",
       " ('sars-like', 0.6336638927459717),\n",
       " ('sars-3cl', 0.630207896232605),\n",
       " ('sars-3clpro', 0.6260415315628052),\n",
       " ('sars-covs', 0.6188393235206604),\n",
       " ('anti-sars-cov', 0.6149972677230835),\n",
       " ('sars-cov-induced', 0.6125013828277588),\n",
       " ('sars-cov-mediated', 0.6122387647628784),\n",
       " ('hsars-cov', 0.6096910834312439),\n",
       " ('pcsars-cov', 0.6093716025352478),\n",
       " ('sars-cov-like', 0.6079924702644348),\n",
       " ('sars-co', 0.6049235463142395),\n",
       " ('anticoronaviral', 0.6001306176185608),\n",
       " ('p-sars', 0.5944415926933289),\n",
       " ('sars-coronavirus', 0.5917157530784607),\n",
       " ('anticoronavirus', 0.5908254981040955),\n",
       " ('sars-cov-', 0.5900379419326782),\n",
       " ('coronaviral', 0.5898032188415527),\n",
       " ('anti-sars', 0.5894895792007446),\n",
       " ('sarsh', 0.5868193507194519),\n",
       " ('anti-coronaviral', 0.5848149657249451),\n",
       " ('coronavirion', 0.5847545862197876),\n",
       " ('csars', 0.5837503671646118),\n",
       " ('antifiloviral', 0.5801987648010254),\n",
       " ('peramivir', 0.5795677900314331),\n",
       " ('sarscov', 0.5794003009796143),\n",
       " ('delaviridine', 0.5788865089416504),\n",
       " ('sars-induced', 0.5777819156646729),\n",
       " ('sars-associated', 0.5775206089019775),\n",
       " ('2-rimantadine', 0.5772789716720581),\n",
       " ('mers-cov', 0.5766634345054626),\n",
       " ('oseltamivir-conjugated', 0.5746778249740601),\n",
       " ('coronavirus-based', 0.5744205713272095),\n",
       " ('mers', 0.5742300748825073),\n",
       " ('sar405', 0.5737810134887695),\n",
       " ('coronavirus-mediated', 0.5730257630348206),\n",
       " ('coronavirus-receptor', 0.5730191469192505),\n",
       " ('pan-coronavirus', 0.5729820132255554),\n",
       " ('anti-coronavirus', 0.571882963180542),\n",
       " ('cantharidin-based', 0.5718101263046265),\n",
       " ('cantharimide', 0.571784496307373),\n",
       " ('norcantharidin-induced', 0.571295440196991),\n",
       " ('sars-', 0.5705726146697998),\n",
       " ('cantharidin-mediated', 0.5701692700386047),\n",
       " ('rimantadine-resistant', 0.5699713230133057),\n",
       " ('dual-inhibitor', 0.5688484907150269),\n",
       " ('zanamivir', 0.568822979927063),\n",
       " ('coronavirus-host', 0.5679503679275513),\n",
       " ('plpro', 0.5676535367965698)]"
      ]
     },
     "execution_count": 10,
     "metadata": {},
     "output_type": "execute_result"
    }
   ],
   "source": [
    "v = wv['metformin'] - wv['diabetes'] + wv['sars']\n",
    "wv.most_similar(np.array([v]), topn=50)"
   ]
  },
  {
   "cell_type": "code",
   "execution_count": 17,
   "metadata": {},
   "outputs": [
    {
     "name": "stdout",
     "output_type": "stream",
     "text": [
      "4.038353\n",
      "3.7292686\n",
      "4.4895287\n"
     ]
    }
   ],
   "source": [
    "print(np.linalg.norm(wv['metformin']))\n",
    "print(np.linalg.norm(wv['diabetes']))\n",
    "print(np.linalg.norm(wv['sars']))"
   ]
  },
  {
   "cell_type": "code",
   "execution_count": 20,
   "metadata": {
    "scrolled": true
   },
   "outputs": [
    {
     "data": {
      "text/plain": [
       "[('sars', 0.7350299954414368),\n",
       " ('sars-cov', 0.5995138883590698),\n",
       " ('sars-3cl', 0.5938767194747925),\n",
       " ('sars-3clpro', 0.5917655229568481),\n",
       " ('sars-like', 0.588849663734436),\n",
       " ('sars-covs', 0.5769191980361938),\n",
       " ('sars-cov-induced', 0.5742613077163696),\n",
       " ('sars-cov-mediated', 0.5720081329345703),\n",
       " ('sars-cov-like', 0.5706111192703247),\n",
       " ('anti-sars-cov', 0.5702002048492432),\n",
       " ('pcsars-cov', 0.5684103965759277),\n",
       " ('hsars-cov', 0.5669524669647217),\n",
       " ('sars-co', 0.5651364326477051),\n",
       " ('anticoronaviral', 0.5618479251861572),\n",
       " ('cantharimide', 0.560847818851471),\n",
       " ('sar405', 0.5591368675231934),\n",
       " ('peramivir', 0.5569697618484497),\n",
       " ('norcantharidin-induced', 0.5555315017700195),\n",
       " ('cantharidin-mediated', 0.5551379919052124),\n",
       " ('delaviridine', 0.5549776554107666),\n",
       " ('sarsh', 0.5539019703865051),\n",
       " ('2-rimantadine', 0.5537103414535522),\n",
       " ('p-sars', 0.5533959269523621),\n",
       " ('sars-cov-', 0.5527392029762268),\n",
       " ('chelidonine', 0.5523551106452942),\n",
       " ('cantharidin-based', 0.5517821311950684),\n",
       " ('dual-inhibitor', 0.5513182282447815),\n",
       " ('katamine', 0.550798773765564),\n",
       " ('antifiloviral', 0.5498783588409424),\n",
       " ('anticoronavirus', 0.5492631196975708),\n",
       " ('norcantharimide', 0.5492123961448669),\n",
       " ('nvp-bez-235', 0.5489909648895264),\n",
       " ('csars', 0.5485132336616516),\n",
       " ('cantharidin-sensitive', 0.5476962924003601),\n",
       " ('sarscov', 0.547585129737854),\n",
       " ('coronaviral', 0.5472294092178345),\n",
       " ('zanamivir', 0.5469999313354492),\n",
       " ('oseltamivir-conjugated', 0.5467706918716431),\n",
       " ('coronavirion', 0.5460412502288818),\n",
       " ('turbinamide', 0.5449963212013245),\n",
       " ('sars-coronavirus', 0.544929563999176),\n",
       " ('pan-inhibitor', 0.5439003705978394),\n",
       " ('lycodine', 0.5438421964645386),\n",
       " ('resminostat', 0.543441653251648),\n",
       " ('anti-sars', 0.542997419834137),\n",
       " ('cantharidine', 0.5426813960075378),\n",
       " ('anti-coronaviral', 0.5425580739974976),\n",
       " ('inhibitor-sensitizing', 0.5415160655975342),\n",
       " ('dehydronorcantharidin', 0.5411205887794495),\n",
       " ('norcantharimides', 0.5407969355583191)]"
      ]
     },
     "execution_count": 20,
     "metadata": {},
     "output_type": "execute_result"
    }
   ],
   "source": [
    "metf_v = wv['metformin'] / np.linalg.norm(wv['metformin'])\n",
    "diab_v = wv['diabetes'] / np.linalg.norm(wv['diabetes'])\n",
    "sars_v = wv['sars'] / np.linalg.norm(wv['sars'])\n",
    "wv.most_similar(np.array([metf_v - diab_v + sars_v]), topn=50)"
   ]
  },
  {
   "cell_type": "code",
   "execution_count": 13,
   "metadata": {
    "scrolled": true
   },
   "outputs": [
    {
     "data": {
      "text/plain": [
       "[('sars-cov', 0.5995138883590698),\n",
       " ('sars-3cl', 0.5938767194747925),\n",
       " ('sars-3clpro', 0.5917655229568481),\n",
       " ('sars-like', 0.588849663734436),\n",
       " ('sars-covs', 0.5769191384315491),\n",
       " ('sars-cov-induced', 0.5742613673210144),\n",
       " ('sars-cov-mediated', 0.5720081329345703),\n",
       " ('sars-cov-like', 0.5706111192703247),\n",
       " ('anti-sars-cov', 0.5702000856399536),\n",
       " ('pcsars-cov', 0.5684103965759277),\n",
       " ('hsars-cov', 0.5669524669647217),\n",
       " ('sars-co', 0.5651364326477051),\n",
       " ('anticoronaviral', 0.5618479251861572),\n",
       " ('cantharimide', 0.5608478784561157),\n",
       " ('sar405', 0.5591368675231934),\n",
       " ('peramivir', 0.5569697022438049),\n",
       " ('norcantharidin-induced', 0.5555315613746643),\n",
       " ('cantharidin-mediated', 0.5551379919052124),\n",
       " ('delaviridine', 0.5549776554107666),\n",
       " ('sarsh', 0.5539019107818604),\n",
       " ('2-rimantadine', 0.5537103414535522),\n",
       " ('p-sars', 0.5533959269523621),\n",
       " ('sars-cov-', 0.5527392029762268),\n",
       " ('chelidonine', 0.5523550510406494),\n",
       " ('cantharidin-based', 0.5517821311950684),\n",
       " ('dual-inhibitor', 0.5513182282447815),\n",
       " ('katamine', 0.550798773765564),\n",
       " ('antifiloviral', 0.5498783588409424),\n",
       " ('anticoronavirus', 0.5492631793022156),\n",
       " ('norcantharimide', 0.5492123961448669),\n",
       " ('nvp-bez-235', 0.5489909648895264),\n",
       " ('csars', 0.5485132336616516),\n",
       " ('cantharidin-sensitive', 0.5476962924003601),\n",
       " ('sarscov', 0.547585129737854),\n",
       " ('coronaviral', 0.5472294092178345),\n",
       " ('zanamivir', 0.5469998717308044),\n",
       " ('oseltamivir-conjugated', 0.5467706918716431),\n",
       " ('coronavirion', 0.5460412502288818),\n",
       " ('turbinamide', 0.5449963212013245),\n",
       " ('sars-coronavirus', 0.544929563999176),\n",
       " ('pan-inhibitor', 0.5439003705978394),\n",
       " ('lycodine', 0.5438421964645386),\n",
       " ('resminostat', 0.543441653251648),\n",
       " ('anti-sars', 0.542997419834137),\n",
       " ('cantharidine', 0.5426814556121826),\n",
       " ('anti-coronaviral', 0.5425580739974976),\n",
       " ('inhibitor-sensitizing', 0.5415160655975342),\n",
       " ('dehydronorcantharidin', 0.5411205887794495),\n",
       " ('norcantharimides', 0.5407969355583191),\n",
       " ('nvp-231', 0.5404978394508362)]"
      ]
     },
     "execution_count": 13,
     "metadata": {},
     "output_type": "execute_result"
    }
   ],
   "source": [
    "wv.most_similar(positive=['sars', 'metformin'], negative=['diabetes'], topn=50)"
   ]
  },
  {
   "cell_type": "code",
   "execution_count": 14,
   "metadata": {
    "scrolled": true
   },
   "outputs": [
    {
     "data": {
      "text/plain": [
       "[('cantharimide', 0.8812281489372253),\n",
       " ('sars-3clpro', 0.8788511157035828),\n",
       " ('sars-3cl', 0.8778709173202515),\n",
       " ('chelidonine', 0.8775564432144165),\n",
       " ('sar405', 0.8769442439079285),\n",
       " ('ly2523355', 0.8736880421638489),\n",
       " ('turbinamide', 0.871955394744873),\n",
       " ('peramivir', 0.870306134223938),\n",
       " ('sars-cov', 0.8696171641349792),\n",
       " ('cantharidin-mediated', 0.8688936829566956),\n",
       " ('katamine', 0.8688304424285889),\n",
       " ('sars-cov-induced', 0.8673214912414551),\n",
       " ('dual-inhibitor', 0.8666826486587524),\n",
       " ('norcantharimide', 0.8661585450172424),\n",
       " ('2-rimantadine', 0.8660918474197388),\n",
       " ('delaviridine', 0.865639865398407),\n",
       " ('motuporamine', 0.8655034303665161),\n",
       " ('lycodine', 0.8650529980659485),\n",
       " ('cantharidin-based', 0.864751398563385),\n",
       " ('cantharidine', 0.8642935156822205),\n",
       " ('norcantharidin-induced', 0.8641064763069153),\n",
       " ('zanamivir', 0.8634259104728699),\n",
       " ('cantharimides', 0.8633273839950562),\n",
       " ('sars-cov-mediated', 0.8629789352416992),\n",
       " ('nvp-231', 0.8608194589614868),\n",
       " ('norcantharimides', 0.8604865074157715),\n",
       " ('cantharidin-sensitive', 0.8604730367660522),\n",
       " ('nvp-bez-235', 0.8603834509849548),\n",
       " ('chlorahololide', 0.8603324294090271),\n",
       " ('cantharidinimide', 0.8595892190933228),\n",
       " ('ly253963', 0.8589098453521729),\n",
       " ('antifiloviral', 0.8588765859603882),\n",
       " ('sars-like', 0.8586938381195068),\n",
       " ('oseltamivir-conjugated', 0.8581613898277283),\n",
       " ('mk-0536', 0.8581234216690063),\n",
       " ('gracilamine', 0.8580499887466431),\n",
       " ('anticoronaviral', 0.857332706451416),\n",
       " ('rimantadine', 0.8572703003883362),\n",
       " ('dehydronorcantharidin', 0.8567619323730469),\n",
       " ('ozeltamivir', 0.8567216992378235),\n",
       " ('pcsars-cov', 0.8565397262573242),\n",
       " ('herpetolide', 0.8559165596961975),\n",
       " ('anti-sars-cov', 0.8558474183082581),\n",
       " ('cylindramide', 0.8554232716560364),\n",
       " ('pan-inhibitor', 0.8553535342216492),\n",
       " ('sars-cov-like', 0.8552721738815308),\n",
       " ('-oseltamivir', 0.8550982475280762),\n",
       " ('sarsh', 0.854881763458252),\n",
       " ('barasertib', 0.8547942638397217),\n",
       " ('sars-covs', 0.8541404008865356)]"
      ]
     },
     "execution_count": 14,
     "metadata": {},
     "output_type": "execute_result"
    }
   ],
   "source": [
    "wv.most_similar_cosmul(positive=['sars', 'metformin'], negative=['diabetes'], topn=50)"
   ]
  },
  {
   "cell_type": "code",
   "execution_count": null,
   "metadata": {},
   "outputs": [],
   "source": []
  }
 ],
 "metadata": {
  "kernelspec": {
   "display_name": "Python 3",
   "language": "python",
   "name": "python3"
  },
  "language_info": {
   "codemirror_mode": {
    "name": "ipython",
    "version": 3
   },
   "file_extension": ".py",
   "mimetype": "text/x-python",
   "name": "python",
   "nbconvert_exporter": "python",
   "pygments_lexer": "ipython3",
   "version": "3.8.2"
  }
 },
 "nbformat": 4,
 "nbformat_minor": 4
}
